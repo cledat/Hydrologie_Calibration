{
 "cells": [
  {
   "cell_type": "code",
   "execution_count": 29,
   "id": "0273fb37-a2ec-4743-8cd3-6b42d76a52fd",
   "metadata": {
    "tags": []
   },
   "outputs": [],
   "source": [
    "import os\n",
    "import sys\n",
    "import shutil\n",
    "import xarray as xr\n",
    "import hydroStats\n",
    "import array\n",
    "import random\n",
    "import numpy as np\n",
    "import csv\n",
    "import datetime\n",
    "from deap import algorithms\n",
    "from deap import base\n",
    "from deap import benchmarks\n",
    "from deap import creator\n",
    "from deap import tools\n",
    "import pandas\n",
    "import cftime\n",
    "import multiprocessing\n",
    "import time\n",
    "from configparser import ConfigParser\n",
    "import glob\n",
    "from subprocess import Popen, PIPE\n",
    "import matplotlib.pyplot as plt\n",
    "import ast\n",
    "from sys import platform\n",
    "import pickle\n",
    "import stat\n",
    "## Set global parameter\n",
    "global gen\n",
    "gen = 0\n",
    "WarmupDays = 0\n",
    "n_station = 2 "
   ]
  },
  {
   "cell_type": "code",
   "execution_count": 36,
   "id": "6fd79a03-b949-449f-87cb-7d53f407d47d",
   "metadata": {
    "tags": []
   },
   "outputs": [],
   "source": [
    "streamflow_data = pandas.read_csv('/work/ch0636/g300128/Calibration/observed_data/Danube_Budapest_France_discharge_2000_2002.csv',sep=\",\", parse_dates=True, index_col=0)\n",
    "stations = streamflow_data.columns.tolist()\n",
    "your_path = '/work/ch0636/g300128/bckup/run_europe_3station/'  # The directory where there are all the simulations\n",
    "filename_discharge_criter = your_path + '/' + 'runs_log.csv'\n",
    "folders_out = os.listdir(your_path)  # list of all folders containing simulated GW maps and settings file\n"
   ]
  },
  {
   "cell_type": "code",
   "execution_count": 37,
   "id": "2d868435-30ee-48b9-a6a7-98d36a26a45a",
   "metadata": {
    "tags": []
   },
   "outputs": [],
   "source": [
    "def KGE_per_Stations(obs,sim) : \n",
    "    observed_streamflow = obs.values.astype(np.float32)\n",
    "    observed_streamflow[observed_streamflow<=-900]= np.nan\n",
    "    sim[sim==1e31] = np.nan\n",
    "    KGE_list = []\n",
    "    for stat_index in range(len(stations)) :\n",
    "    #    print(stations.values[stat_index])\n",
    "       # station = stations[stat_index]\n",
    "        Qsim1=[] # Structure en ajout, peut etre plus long a run \n",
    "        q1 = simulated_streamflow[stat_index+1].values+0.0001\n",
    "        observed_station_streamflow = observed_streamflow[:,stat_index] #Getting the data for the station stat index\n",
    "        for i in range(observed_station_streamflow.shape[0]):\n",
    "            if not(np.isnan(observed_station_streamflow[i])):\n",
    "                Qsim1.append(q1[i])\n",
    "        Qsim = np.asarray(Qsim1)\n",
    "        Qobs = observed_station_streamflow[~np.isnan(observed_station_streamflow)]\n",
    "\n",
    "\n",
    "        # Compute objective function score\n",
    "\n",
    "        KGE_stat = hydroStats.KGE(s=Qsim,o=Qobs,warmup=WarmupDays)\n",
    "        KGE_list.append(KGE_stat)\n",
    "    return(KGE_list)"
   ]
  },
  {
   "cell_type": "code",
   "execution_count": 62,
   "id": "c39cd52c-5161-48ea-bdb2-ecb7ab3cf797",
   "metadata": {
    "tags": []
   },
   "outputs": [
    {
     "data": {
      "text/plain": [
       "2004"
      ]
     },
     "execution_count": 62,
     "metadata": {},
     "output_type": "execute_result"
    }
   ],
   "source": [
    "int(folders[0][:2])*1000 + int(folders[0][4:])"
   ]
  },
  {
   "cell_type": "code",
   "execution_count": 83,
   "id": "9196432b-97bb-4291-a0e8-6b0a043d8f3c",
   "metadata": {
    "tags": []
   },
   "outputs": [],
   "source": [
    "\n",
    "\n",
    "\n",
    "folders = []\n",
    "for ll in range(len(folders_out)):  # for each folder (=each simulation)\n",
    "\n",
    "    if 'best' not in folders_out[ll] and 'pkl' not in folders_out[ll] and 'front_history' not in folders_out[ll]\\\n",
    "            and 'pareto' not in folders_out[ll] and 'runs_log' not in folders_out[ll] and 'readme' not in folders_out[ll] and \".ipynb_checkpoints\" not in folders_out[ll]  :\n",
    "        folders.append(folders_out[ll])\n",
    "\n",
    "\n",
    "# --------------------------------------------------------------------------\n",
    "# Extract KGE criteria on discharge\n",
    "\n",
    "dict_discharge_criter = {}  # Dictionary: {'simulation number': 'KGE value'}\n",
    "with open(filename_discharge_criter, newline='') as csvfile:\n",
    "    spamreader = csv.reader(csvfile, delimiter=',')\n",
    "    cnt = 0\n",
    "    for row in spamreader:\n",
    "        dict_discharge_criter[row[0]] = row[1]\n",
    "taille_run = len(folders)\n",
    "taille_station = len(stations)\n",
    "\n",
    "# Création d'un DataArray vide avec des dimensions 'run' et 'station'\n",
    "KGE_data = xr.DataArray(np.empty((taille_run, taille_station)), dims=('run', 'station'))\n",
    "# Définir les coordonnées\n",
    "runs =  [int(folders[ll][:2])*1000 + int(folders[ll][4:]) for ll in range(len(folders))]\n",
    "stations = np.arange(taille_station)\n",
    "# Ajout des coordonnées au DataArray\n",
    "KGE_data = data.assign_coords(run=np.sort(runs), station=stations)\n",
    "#KGE_data = xr.DataArray(dims=('run', 'station'))\n",
    "KGE_values = np.zeros(len(folders))  # KGE criteria for discharge\n",
    "for ll in range(len(folders)):  # for each folder (=each simulation)\n",
    "    if folders[ll] != \".ipynb_checkpoints\":\n",
    "        num_folder = int(folders[ll][:2])*1000 + int(folders[ll][4:])\n",
    "        KGE_values[ll] = dict_discharge_criter[folders[ll]]\n",
    "        simulated_streamflow=pandas.read_csv(your_path+folders[ll]+'/discharge_daily.tss',sep=r\"\\s+\",index_col=0,skiprows=3+len(stations),header=None,skipinitialspace=True)\n",
    "        KGE_list=KGE_per_Stations(streamflow_data,simulated_streamflow)\n",
    "        for i in range(len(KGE_list)):\n",
    "            KGE_data.loc[{'run' : num_folder, 'station' : i}] = KGE_list[i]\n",
    "# Sort the results in function of KGE to have the best models above\n",
    "\n",
    "Ind = np.argsort(KGE_values)\n",
    "folders_arranged = [folders[ind] for ind in Ind]\n"
   ]
  },
  {
   "cell_type": "code",
   "execution_count": 84,
   "id": "fb3a0678-5f0a-4fa5-b69a-302da8b4092e",
   "metadata": {
    "tags": []
   },
   "outputs": [
    {
     "data": {
      "text/plain": [
       "<matplotlib.collections.QuadMesh at 0x7ffea1855430>"
      ]
     },
     "execution_count": 84,
     "metadata": {},
     "output_type": "execute_result"
    },
    {
     "data": {
      "image/png": "[encoded data removed]",
      "text/plain": [
       "<Figure size 640x480 with 2 Axes>"
      ]
     },
     "metadata": {},
     "output_type": "display_data"
    }
   ],
   "source": [
    "KGE_data.plot()"
   ]
  },
  {
   "cell_type": "code",
   "execution_count": 22,
   "id": "5d11fb80-60be-44cc-976e-18ea081bbfcd",
   "metadata": {
    "tags": []
   },
   "outputs": [
    {
     "data": {
      "text/plain": [
       "[<matplotlib.lines.Line2D at 0x7fff31978f10>]"
      ]
     },
     "execution_count": 22,
     "metadata": {},
     "output_type": "execute_result"
    },
    {
     "data": {
      "image/png": "[encoded data removed]",
      "text/plain": [
       "<Figure size 640x480 with 1 Axes>"
      ]
     },
     "metadata": {},
     "output_type": "display_data"
    }
   ],
   "source": [
    "plt.plot(KGE_values)"
   ]
  },
  {
   "cell_type": "code",
   "execution_count": 26,
   "id": "99cf1419-f508-44be-a0a0-a3b9247819f8",
   "metadata": {
    "tags": []
   },
   "outputs": [
    {
     "ename": "AttributeError",
     "evalue": "'dict' object has no attribute 'plot'",
     "output_type": "error",
     "traceback": [
      "\u001b[0;31m---------------------------------------------------------------------------\u001b[0m",
      "\u001b[0;31mAttributeError\u001b[0m                            Traceback (most recent call last)",
      "Cell \u001b[0;32mIn[26], line 1\u001b[0m\n\u001b[0;32m----> 1\u001b[0m \u001b[43mdict_discharge_criter\u001b[49m\u001b[38;5;241;43m.\u001b[39;49m\u001b[43mplot\u001b[49m()\n",
      "\u001b[0;31mAttributeError\u001b[0m: 'dict' object has no attribute 'plot'"
     ]
    }
   ],
   "source": []
  },
  {
   "cell_type": "code",
   "execution_count": 14,
   "id": "d0d10082-0c19-4449-bea1-fd03fa2e3460",
   "metadata": {
    "tags": []
   },
   "outputs": [
    {
     "data": {
      "text/plain": [
       "['01_001',\n",
       " '00_004',\n",
       " '01_004',\n",
       " '00_002',\n",
       " '00_003',\n",
       " '02_001',\n",
       " '01_002',\n",
       " '00_001',\n",
       " '01_003',\n",
       " '02_002',\n",
       " '02_004',\n",
       " '02_003',\n",
       " '.ipynb_checkpoints']"
      ]
     },
     "execution_count": 14,
     "metadata": {},
     "output_type": "execute_result"
    }
   ],
   "source": [
    "folders_arranged"
   ]
  }
 ],
 "metadata": {
  "kernelspec": {
   "display_name": "CWatM",
   "language": "python",
   "name": "my-kernel"
  },
  "language_info": {
   "codemirror_mode": {
    "name": "ipython",
    "version": 3
   },
   "file_extension": ".py",
   "mimetype": "text/x-python",
   "name": "python",
   "nbconvert_exporter": "python",
   "pygments_lexer": "ipython3",
   "version": "3.9.19"
  }
 },
 "nbformat": 4,
 "nbformat_minor": 5
}
