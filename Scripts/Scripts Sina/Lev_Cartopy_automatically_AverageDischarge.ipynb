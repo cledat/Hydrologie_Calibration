{
 "cells": [
  {
   "cell_type": "markdown",
   "id": "2f25ba30-e6fd-4037-887c-2450a9547350",
   "metadata": {},
   "source": [
    "\n",
    "#### Packages einlesen"
   ]
  },
  {
   "cell_type": "code",
   "execution_count": 1,
   "id": "702008c5-2402-472f-a5d8-6f18e790033e",
   "metadata": {
    "tags": []
   },
   "outputs": [
    {
     "name": "stderr",
     "output_type": "stream",
     "text": [
      "/sw/spack-levante/mambaforge-22.9.0-2-Linux-x86_64-kptncg/lib/python3.10/site-packages/pyproj/__init__.py:91: UserWarning: Valid PROJ data directory not found. Either set the path using the environmental variable PROJ_LIB or with `pyproj.datadir.set_data_dir`.\n",
      "  warnings.warn(str(err))\n",
      "ERROR 1: PROJ: proj_create_from_database: Open of /sw/spack-levante/mambaforge-22.9.0-2-Linux-x86_64-kptncg/share/proj failed\n",
      "PROJ: proj_create_from_database: Open of /sw/spack-levante/mambaforge-22.9.0-2-Linux-x86_64-kptncg/share/proj failed\n"
     ]
    }
   ],
   "source": [
    "import netCDF4 as nc \n",
    "import numpy as np\n",
    "import matplotlib.pyplot as plt\n",
    "from mpl_toolkits.basemap import Basemap\n",
    "import xarray as xr\n",
    "import PIL \n",
    "import cartopy.crs as ccrs\n",
    "import cartopy.feature as cfeature\n",
    "from cartopy.mpl.gridliner import LONGITUDE_FORMATTER, LATITUDE_FORMATTER\n",
    "from matplotlib.colors import LinearSegmentedColormap\n",
    "import pandas as pd\n",
    "from scipy.stats import pearsonr\n",
    "\n"
   ]
  },
  {
   "cell_type": "markdown",
   "id": "0501318e-843e-45ad-bdab-9bc0fa5acd13",
   "metadata": {},
   "source": [
    "### Filepath festlegen"
   ]
  },
  {
   "cell_type": "code",
   "execution_count": 2,
   "id": "0310731d-2e05-4323-ba38-2d9a232c5f7a",
   "metadata": {},
   "outputs": [],
   "source": [
    "##### Filepath Observation #####\n",
    "filepath_observation_files = '/work/ch0636/g300123/Calibration_data/observation_ncfiles'\n",
    "selected_observation = 'GRDC-Daily'\n",
    "# selected_observation = 'GRDC-Daily-Spain'\n",
    "\n",
    "##### Filepath Simulation #####\n",
    "filepath_simulation_results = '/work/ch0636/g300123/Outputs_5arcmin'\n",
    "# selected_simulation = '24_02_24_landcover_5arcmin_0000_zeros'\n",
    "# selected_simulation = '24_03_20_init_INPTAG_2003_LAT_0000_zeros'\n",
    "selected_simulation = '24_03_23_init_INPTAG_1999to2010_LAT_0000_zeros_forvalidation'\n",
    "\n"
   ]
  },
  {
   "cell_type": "markdown",
   "id": "b3393b15-9092-46e7-9e5b-3ad25db51401",
   "metadata": {},
   "source": [
    "### Festlegen, welche Jahre untersucht werden sollen "
   ]
  },
  {
   "cell_type": "code",
   "execution_count": 3,
   "id": "2c368352-5c60-46b4-a48c-f18635241eae",
   "metadata": {},
   "outputs": [],
   "source": [
    "# start_date = '2003-01-01' \n",
    "# end_date = '2003-12-31' \n",
    "# yearsname = '2003'\n",
    "\n",
    "start_date = '1999-01-01' \n",
    "end_date = '2008-12-31' \n",
    "yearsname = '1999to2008'"
   ]
  },
  {
   "cell_type": "markdown",
   "id": "1b9de57d-5482-4207-b468-f39198bf948e",
   "metadata": {},
   "source": [
    "### Festlegen, für welche Stationen es Abweichungen bei der Wahl des passenden Rasters im Vergleich zu automatischen Auswahl gibt "
   ]
  },
  {
   "cell_type": "code",
   "execution_count": 4,
   "id": "17103c23-421e-43b2-9910-9b8904806aad",
   "metadata": {},
   "outputs": [],
   "source": [
    "# Manuell hier die Stations_IDs eingeben für die Veränderungen forgenommen werden müssen \n",
    "list_of_station_IDs_lat_minus1 = [ 6221102 , 6139770 , 6233650 , 6226300 , 6781800 , 6226310 , 6227130 , 6227410 ]\n",
    "list_of_station_IDs_lon_minus1 = [ 6212740 ]\n",
    "list_of_station_IDs_lat_plus1 = []\n",
    "list_of_station_IDs_lon_plus1 = [ 6216610 ]\n",
    "\n",
    "# Chooz (Belgium) / 6221102 lat -1 \n",
    "# Neublans-Abergement (France) / 6139770 lat -1\n",
    "# Sollefta (Sweden) / 6233650 lat -1 \n",
    "# Castejon (Spain) / 6226300 lat -1 \n",
    "# Tighina (Moldavia) / 6781800 lat -1 \n",
    "#### # Alba Iulia (Rumania) / 6744201 lon +1\n",
    "\n",
    "# 6212740  /  VALLADOLID-PISUERGA (ES) :  lon -1 \n",
    "# 6216610  /  VILLANUEVA DE LA SERENA (ES) :   lon +1 \n",
    "# s.o. 6226300  /  CASTEJON (ES) :   lat -1 \n",
    "# 6226310  /  CAPARROSO (ES) :   lat -1\n",
    "# 6227130  /  LA PRESA (ES) :   lat -1\n",
    "# 6227410  /  ROJALES (ES) :   lat -1"
   ]
  },
  {
   "cell_type": "markdown",
   "id": "96bc3e7c-6693-4d25-bee3-08472d04d2fb",
   "metadata": {
    "tags": []
   },
   "source": [
    "## Oberservation nc-Datensätze"
   ]
  },
  {
   "cell_type": "markdown",
   "id": "76ba50fd-f965-4435-9fd4-a51cb47d639b",
   "metadata": {},
   "source": [
    "### Oberservation nc-Datensätze von GRDC einlesen"
   ]
  },
  {
   "cell_type": "code",
   "execution_count": 5,
   "id": "6a0e7dd0-b3c1-419e-9fe4-4621ef848179",
   "metadata": {
    "tags": []
   },
   "outputs": [
    {
     "name": "stderr",
     "output_type": "stream",
     "text": [
      "/sw/spack-levante/mambaforge-22.9.0-2-Linux-x86_64-kptncg/lib/python3.10/site-packages/xarray/backends/plugins.py:80: RuntimeWarning: Engine 'cfgrib' loading failed:\n",
      "Cannot find the ecCodes library\n",
      "  warnings.warn(f\"Engine {name!r} loading failed:\\n{ex}\", RuntimeWarning)\n"
     ]
    }
   ],
   "source": [
    "# nc-file in xarray einlesen\n",
    "observation_file = filepath_observation_files + '/' + selected_observation + '.nc'\n",
    "xr_obs = xr.open_dataset(observation_file)\n",
    "xr_obs\n",
    "\n",
    "# Liste aller einzigartigen IDs\n",
    "list_of_station_IDs = xr_obs['id'].values\n",
    "\n",
    "# Leeres Dictionary erstellen \n",
    "Dict_obs_data = {}\n",
    "\n",
    "# Schleife über jede einzigartige ID, um die Daten für \"discharge\" zu isolieren\n",
    "for ID in list_of_station_IDs:\n",
    "    obs_data = xr_obs['runoff_mean'].sel(id = ID, time = slice (start_date, end_date)).values\n",
    "    # Speichere die Daten im Dictionary unter dem entsprechenden ID-Namen\n",
    "    Dict_obs_data[ID] = obs_data\n",
    "\n",
    "    "
   ]
  },
  {
   "cell_type": "markdown",
   "id": "0652c628-b4e3-4652-a120-51b00e53bdfe",
   "metadata": {},
   "source": [
    "## Simulation nc-Datensätze"
   ]
  },
  {
   "cell_type": "markdown",
   "id": "78583c26-4a9d-4274-9589-eee720ca3058",
   "metadata": {},
   "source": [
    "### Simulation nc-Datensätze von CWatM einlesen Teil 1/2"
   ]
  },
  {
   "cell_type": "code",
   "execution_count": 6,
   "id": "fbba5077-28b8-4e5e-aac2-f4d93bd91961",
   "metadata": {},
   "outputs": [],
   "source": [
    "# nc-file in xarray einlesen\n",
    "simulation_file = filepath_simulation_results  + '/' + selected_simulation  + '/' + 'discharge_daily.nc'\n",
    "xr_sim = xr.open_dataset(simulation_file)\n",
    "xr_sim \n",
    "\n",
    "# Liste aller einzigartigen IDs\n",
    "list_of_station_IDs = xr_obs['id'].values\n"
   ]
  },
  {
   "cell_type": "markdown",
   "id": "65454ab4-fe71-4594-9fe7-31664e11c1af",
   "metadata": {},
   "source": [
    "### lat_station_index und lon_station_index automatisch herausfinden "
   ]
  },
  {
   "cell_type": "code",
   "execution_count": 7,
   "id": "f15174f5-1707-45ca-9cc2-49f7433579a2",
   "metadata": {},
   "outputs": [],
   "source": [
    "# Geographische Koordinaten automatisch auslesen \n",
    "lon_station = {}\n",
    "lat_station = {}\n",
    "height_station = {}\n",
    "\n",
    "for ID in list_of_station_IDs: \n",
    "    lon_station [ID] = xr_obs['geo_x'].sel(id = ID).values\n",
    "    lat_station[ID] = xr_obs['geo_y'].sel(id = ID).values\n",
    "    height_station [ID] =  xr_obs['geo_z'].sel(id = ID).values\n",
    "    \n",
    "# Alle Werte der latitudes und longitudes auslesen \n",
    "latitudes = xr_sim['lat'].values\n",
    "longitudes = xr_sim['lon'].values\n",
    "\n",
    "# Nächstgelegende Lat und lon index automatisch auslesen\n",
    "lat_station_index = {}\n",
    "lon_station_index = {}\n",
    "\n",
    "for ID in list_of_station_IDs: \n",
    "    lat_station_index [ID] = np.abs(latitudes - lat_station[ID]).argmin()\n",
    "    lon_station_index [ID] = np.abs(longitudes - lon_station[ID]).argmin()\n"
   ]
  },
  {
   "cell_type": "markdown",
   "id": "7587e4fc-3f9c-4f14-af30-f950bf326e12",
   "metadata": {},
   "source": [
    "### Dictionary für lat_station_index_fit und lon_station_index_fit erstellen"
   ]
  },
  {
   "cell_type": "code",
   "execution_count": 8,
   "id": "4f7423e8-36df-4da3-87c2-a1723cdbea75",
   "metadata": {},
   "outputs": [],
   "source": [
    "# Jetzt Dictionarys für lat_index_fit und lon_index_fit damit erstellen \n",
    "lat_station_index_fit = {}\n",
    "lon_station_index_fit = {}\n",
    "\n",
    "for ID in list_of_station_IDs:\n",
    "    lat_station_index_fit[ID] = lat_station_index[ID]\n",
    "    lon_station_index_fit[ID] = lon_station_index[ID]\n",
    "    \n",
    "for ID in list_of_station_IDs_lat_minus1:\n",
    "    if ID in list_of_station_IDs:\n",
    "        lat_station_index_fit[ID] = lat_station_index[ID] - 1 \n",
    "for ID in list_of_station_IDs_lon_minus1:\n",
    "    if ID in list_of_station_IDs:\n",
    "        lon_station_index_fit[ID] = lon_station_index[ID] - 1\n",
    "for ID in list_of_station_IDs_lat_plus1:\n",
    "    if ID in list_of_station_IDs:\n",
    "        lat_station_index_fit[ID] = lat_station_index[ID] + 1 \n",
    "for ID in list_of_station_IDs_lon_plus1:\n",
    "    if ID in list_of_station_IDs:\n",
    "        lon_station_index_fit[ID] = lon_station_index[ID] + 1\n",
    "\n",
    "# Finale Werte für lat_station_index_fit und lon_station_index_fit ausgeben\n",
    "# print(lat_station_index_fit)\n",
    "# print(lon_station_index_fit)\n"
   ]
  },
  {
   "cell_type": "markdown",
   "id": "5d820064-0bc7-48be-a3b5-48d21fc53933",
   "metadata": {},
   "source": [
    "### Simulation nc-Datensätze von CWatM einlesen Teil 2/2"
   ]
  },
  {
   "cell_type": "code",
   "execution_count": 9,
   "id": "04586cc2-b8a8-44fb-80e8-aa0b87208038",
   "metadata": {
    "tags": []
   },
   "outputs": [],
   "source": [
    "# Leeres Dictionary erstellen \n",
    "Dict_sim_data = {}\n",
    "\n",
    "# Schleife über jede einzigartige ID, um die Daten für \"discharge\" zu isolieren\n",
    "for ID in list_of_station_IDs:\n",
    "    sim_data_everywhere = xr_sim['discharge'].sel(time = slice (start_date, end_date))\n",
    "    sim_data = sim_data_everywhere[:, lat_station_index_fit[ID], lon_station_index_fit[ID]].values\n",
    "    # Speichere die Daten im Dictionary unter dem entsprechenden ID-Namen\n",
    "    Dict_sim_data[ID] = sim_data\n",
    "\n",
    "\n"
   ]
  },
  {
   "cell_type": "markdown",
   "id": "9ca22e3a-150a-4321-a67b-995a4d80d397",
   "metadata": {},
   "source": [
    "## Amount of average discharge berechnen "
   ]
  },
  {
   "cell_type": "code",
   "execution_count": 10,
   "id": "9d3e3270-f6ff-4534-8c4d-33fce43fc2bc",
   "metadata": {
    "tags": []
   },
   "outputs": [],
   "source": [
    "def calculate_averagedischarge_obs(stationID):\n",
    "    ## netcdf-files von eigener CWatM-Simulation einlesen   \n",
    "    obs_data = Dict_obs_data[stationID]\n",
    "    # Berechnung der einzelnen Komponenten\n",
    "    obs_mean = np.nanmean(obs_data)\n",
    "    # Berechnung der AvergeDischarge\n",
    "    AvergeDischarge_obs = obs_mean\n",
    "    return stationID, AvergeDischarge_obs\n",
    "\n"
   ]
  },
  {
   "cell_type": "markdown",
   "id": "6ef59b7a-4f6a-4391-9ce1-3930f55bbd5e",
   "metadata": {},
   "source": [
    "#### Dictionary for stations"
   ]
  },
  {
   "cell_type": "code",
   "execution_count": 11,
   "id": "fdc43dec-8b74-442e-8cc3-47dbbcbdf028",
   "metadata": {
    "tags": []
   },
   "outputs": [],
   "source": [
    "Dict_stationname = {}\n",
    "for ID in list_of_station_IDs:\n",
    "    stationname = xr_obs['station_name'].sel(id = ID).values\n",
    "    country = xr_obs['country'].sel(id = ID).values\n",
    "    Dict_stationname[ID] = f\"{stationname} ({country})\"\n",
    "\n"
   ]
  },
  {
   "cell_type": "markdown",
   "id": "99e634c1-8688-4caf-84c9-6cbdfc55c8c4",
   "metadata": {},
   "source": [
    "#### Amount of average discharge für die verschiedenen Standorte berechnen "
   ]
  },
  {
   "cell_type": "code",
   "execution_count": 12,
   "id": "dca66b9d-4745-4e67-bf85-3dd15febae2b",
   "metadata": {
    "tags": []
   },
   "outputs": [
    {
     "name": "stdout",
     "output_type": "stream",
     "text": [
      "Station:  6212410  /  TORO (ES)  ,  Average discharge: 102.9\n",
      "Station:  6212440  /  CARRASCAL (ES)  ,  Average discharge: 94.5\n",
      "Station:  6212460  /  HERRERA DE DUERO (ES)  ,  Average discharge: 25.0\n",
      "Station:  6212470  /  GORMAZ (ES)  ,  Average discharge: 12.1\n",
      "Station:  6212510  /  BRETO (ES)  ,  Average discharge: 122.2\n",
      "Station:  6212710  /  QUINTANA DEL PUENTE (ES)  ,  Average discharge: 24.5\n",
      "Station:  6212740  /  VALLADOLID-PISUERGA (ES)  ,  Average discharge: 64.0\n",
      "Station:  6212850  /  VALDESTILLAS (ES)  ,  Average discharge: 8.1\n",
      "Station:  6213700  /  TALAVERA (ES)  ,  Average discharge: nan\n",
      "Station:  6213750  /  ARANJUEZ (PUENTE LARGO) (ES)  ,  Average discharge: 26.4\n",
      "Station:  6213780  /  MEJORADA DEL CAMPO (ES)  ,  Average discharge: 17.0\n",
      "Station:  6213850  /  EMBOCADOR (ES)  ,  Average discharge: 7.6\n",
      "Station:  6216510  /  AZUD DE BADAJOZ (ES)  ,  Average discharge: 38.1\n",
      "Station:  6216520  /  VILLARRUBIA (ES)  ,  Average discharge: 0.4\n",
      "Station:  6216610  /  VILLANUEVA DE LA SERENA (ES)  ,  Average discharge: 3.0\n",
      "Station:  6217140  /  MENGIBAR (ES)  ,  Average discharge: 16.3\n",
      "Station:  6217300  /  ECIJA (ES)  ,  Average discharge: 9.1\n",
      "Station:  6217400  /  CARR. TORREBLASCOPEDRO (ES)  ,  Average discharge: 2.9\n",
      "Station:  6217500  /  POSITO (ES)  ,  Average discharge: nan\n",
      "Station:  6226200  /  MIRANDA DE EBRO (ES)  ,  Average discharge: 90.0\n",
      "Station:  6226300  /  CASTEJON (ES)  ,  Average discharge: 170.2\n",
      "Station:  6226310  /  CAPARROSO (ES)  ,  Average discharge: 27.2\n",
      "Station:  6226400  /  ZARAGOZA (ES)  ,  Average discharge: 190.6\n",
      "Station:  6226440  /  GRISEN (ES)  ,  Average discharge: 2.5\n",
      "Station:  6226600  /  SEROS (ES)  ,  Average discharge: 51.8\n",
      "Station:  6226650  /  FRAGA (ES)  ,  Average discharge: 59.3\n",
      "Station:  6226800  /  TORTOSA (ES)  ,  Average discharge: 270.2\n",
      "Station:  6227130  /  LA PRESA (ES)  ,  Average discharge: 5.1\n",
      "Station:  6227410  /  ROJALES (ES)  ,  Average discharge: 0.2\n",
      "Station:  6227500  /  MASIA DE POMPO (ES)  ,  Average discharge: 11.9\n",
      "Station:  6227510  /  HUERTO MULET (ES)  ,  Average discharge: 13.9\n",
      "Station:  6227520  /  ALCALA DEL JUCAR (ES)  ,  Average discharge: 6.9\n"
     ]
    },
    {
     "name": "stderr",
     "output_type": "stream",
     "text": [
      "/tmp/ipykernel_1111688/2219232428.py:5: RuntimeWarning: Mean of empty slice\n",
      "  obs_mean = np.nanmean(obs_data)\n"
     ]
    }
   ],
   "source": [
    "AvergeDischarge = {}\n",
    "for ID in list_of_station_IDs:\n",
    "    stationID,  stationAD = calculate_averagedischarge_obs(ID) \n",
    "    AvergeDischarge [ID] = np.round(stationAD, 4)\n",
    "    print('Station: ' ,  ID  , ' / ' ,  Dict_stationname[ID]  , ' , ' ,  'Average discharge:' , np.round(AvergeDischarge[ID],1))\n",
    "\n"
   ]
  }
 ],
 "metadata": {
  "kernelspec": {
   "display_name": "newkernel_for_CWatM",
   "language": "python",
   "name": "virtenv_cwatm"
  },
  "language_info": {
   "codemirror_mode": {
    "name": "ipython",
    "version": 3
   },
   "file_extension": ".py",
   "mimetype": "text/x-python",
   "name": "python",
   "nbconvert_exporter": "python",
   "pygments_lexer": "ipython3",
   "version": "3.10.10"
  }
 },
 "nbformat": 4,
 "nbformat_minor": 5
}
