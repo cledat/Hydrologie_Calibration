{
 "cells": [
  {
   "cell_type": "markdown",
   "id": "2f25ba30-e6fd-4037-887c-2450a9547350",
   "metadata": {},
   "source": [
    "\n",
    "#### Packages einlesen"
   ]
  },
  {
   "cell_type": "code",
   "execution_count": 1,
   "id": "702008c5-2402-472f-a5d8-6f18e790033e",
   "metadata": {
    "tags": []
   },
   "outputs": [
    {
     "name": "stderr",
     "output_type": "stream",
     "text": [
      "/sw/spack-levante/mambaforge-22.9.0-2-Linux-x86_64-kptncg/lib/python3.10/site-packages/pyproj/__init__.py:91: UserWarning: Valid PROJ data directory not found. Either set the path using the environmental variable PROJ_LIB or with `pyproj.datadir.set_data_dir`.\n",
      "  warnings.warn(str(err))\n",
      "ERROR 1: PROJ: proj_create_from_database: Open of /sw/spack-levante/mambaforge-22.9.0-2-Linux-x86_64-kptncg/share/proj failed\n",
      "PROJ: proj_create_from_database: Open of /sw/spack-levante/mambaforge-22.9.0-2-Linux-x86_64-kptncg/share/proj failed\n"
     ]
    }
   ],
   "source": [
    "import netCDF4 as nc \n",
    "import numpy as np\n",
    "import matplotlib.pyplot as plt\n",
    "from mpl_toolkits.basemap import Basemap\n",
    "import xarray as xr\n",
    "import PIL \n",
    "import cartopy.crs as ccrs\n",
    "import cartopy.feature as cfeature\n",
    "from cartopy.mpl.gridliner import LONGITUDE_FORMATTER, LATITUDE_FORMATTER\n",
    "from matplotlib.colors import LinearSegmentedColormap\n",
    "import pandas as pd\n",
    "from scipy.stats import pearsonr\n",
    "\n"
   ]
  },
  {
   "cell_type": "markdown",
   "id": "0501318e-843e-45ad-bdab-9bc0fa5acd13",
   "metadata": {},
   "source": [
    "### Filepath festlegen"
   ]
  },
  {
   "cell_type": "code",
   "execution_count": 2,
   "id": "0310731d-2e05-4323-ba38-2d9a232c5f7a",
   "metadata": {},
   "outputs": [],
   "source": [
    "##### Filepath Observation #####\n",
    "filepath_observation_files = '/work/ch0636/g300123/Calibration_data/observation_ncfiles'\n",
    "# selected_observation = 'GRDC-Daily'\n",
    "selected_observation = 'GRDC-Daily'\n",
    "\n",
    "##### Filepath Simulation #####\n",
    "filepath_simulation_results = '/work/ch0636/g300123/Outputs_5arcmin'\n",
    "# selected_simulation = '24_02_24_landcover_5arcmin_0000_zeros'\n",
    "# selected_simulation = '24_03_20_init_INPTAG_2003_LAT_0000_zeros'\n",
    "selected_simulation = '24_03_23_init_INPTAG_1999to2010_LAT_0000_zeros_forvalidation'\n",
    "\n",
    "##### Outputfile path for Maps #####\n",
    "file_save_graph = '/work/ch0636/g300123/Calibration/automatically'  + '/' + 'maps_overviewOfAllStations_automatically'\n",
    "area = 'allEurope' # 'NorthernEurope'   # 'Spain', 'NorthernEurope', 'EasternEurope'\n",
    "\n",
    "\n"
   ]
  },
  {
   "cell_type": "markdown",
   "id": "b3393b15-9092-46e7-9e5b-3ad25db51401",
   "metadata": {},
   "source": [
    "### Festlegen, welche Jahre untersucht werden sollen "
   ]
  },
  {
   "cell_type": "code",
   "execution_count": 3,
   "id": "2c368352-5c60-46b4-a48c-f18635241eae",
   "metadata": {},
   "outputs": [],
   "source": [
    "# start_date = '2003-01-01' \n",
    "# end_date = '2003-12-31' \n",
    "# yearsname = '2003'\n",
    "\n",
    "start_date = '1999-01-01' \n",
    "end_date = '2008-12-31' \n",
    "yearsname = '1999to2008'"
   ]
  },
  {
   "cell_type": "markdown",
   "id": "1b9de57d-5482-4207-b468-f39198bf948e",
   "metadata": {},
   "source": [
    "### Festlegen, für welche Stationen es Abweichungen bei der Wahl des passenden Rasters im Vergleich zu automatischen Auswahl gibt "
   ]
  },
  {
   "cell_type": "code",
   "execution_count": 4,
   "id": "17103c23-421e-43b2-9910-9b8904806aad",
   "metadata": {},
   "outputs": [],
   "source": [
    "# Manuell hier die Stations_IDs eingeben für die Veränderungen forgenommen werden müssen \n",
    "list_of_station_IDs_lat_minus1 = [ 6221102 , 6139770 , 6233650 , 6226300 , 6781800 , 6226310 , 6227130 , 6227410 ]\n",
    "list_of_station_IDs_lon_minus1 = [ 6212740 ]\n",
    "list_of_station_IDs_lat_plus1 = []\n",
    "list_of_station_IDs_lon_plus1 = [ 6216610 ]\n",
    "\n",
    "# Chooz (Belgium) / 6221102 lat -1 \n",
    "# Neublans-Abergement (France) / 6139770 lat -1\n",
    "# Sollefta (Sweden) / 6233650 lat -1 \n",
    "# Castejon (Spain) / 6226300 lat -1 \n",
    "# Tighina (Moldavia) / 6781800 lat -1 \n",
    "\n",
    "# 6212740  /  VALLADOLID-PISUERGA (ES) :  lon -1 \n",
    "# 6216610  /  VILLANUEVA DE LA SERENA (ES) :   lon +1 \n",
    "# s.o. 6226300  /  CASTEJON (ES) :   lat -1 \n",
    "# 6226310  /  CAPARROSO (ES) :   lat -1\n",
    "# 6227130  /  LA PRESA (ES) :   lat -1\n",
    "# 6227410  /  ROJALES (ES) :   lat -1"
   ]
  },
  {
   "cell_type": "markdown",
   "id": "96bc3e7c-6693-4d25-bee3-08472d04d2fb",
   "metadata": {
    "tags": []
   },
   "source": [
    "## Oberservation nc-Datensätze"
   ]
  },
  {
   "cell_type": "markdown",
   "id": "76ba50fd-f965-4435-9fd4-a51cb47d639b",
   "metadata": {},
   "source": [
    "### Oberservation nc-Datensätze von GRDC einlesen"
   ]
  },
  {
   "cell_type": "code",
   "execution_count": 5,
   "id": "6a0e7dd0-b3c1-419e-9fe4-4621ef848179",
   "metadata": {
    "tags": []
   },
   "outputs": [
    {
     "name": "stderr",
     "output_type": "stream",
     "text": [
      "/sw/spack-levante/mambaforge-22.9.0-2-Linux-x86_64-kptncg/lib/python3.10/site-packages/xarray/backends/plugins.py:80: RuntimeWarning: Engine 'cfgrib' loading failed:\n",
      "Cannot find the ecCodes library\n",
      "  warnings.warn(f\"Engine {name!r} loading failed:\\n{ex}\", RuntimeWarning)\n"
     ]
    }
   ],
   "source": [
    "# nc-file in xarray einlesen\n",
    "observation_file = filepath_observation_files + '/' + selected_observation + '.nc'\n",
    "xr_obs = xr.open_dataset(observation_file)\n",
    "xr_obs\n",
    "\n",
    "# Liste aller einzigartigen IDs\n",
    "list_of_station_IDs = xr_obs['id'].values\n",
    "\n",
    "# Leeres Dictionary erstellen \n",
    "Dict_obs_data = {}\n",
    "\n",
    "# Schleife über jede einzigartige ID, um die Daten für \"discharge\" zu isolieren\n",
    "for ID in list_of_station_IDs:\n",
    "    obs_data = xr_obs['runoff_mean'].sel(id = ID, time = slice (start_date, end_date)).values\n",
    "    # Speichere die Daten im Dictionary unter dem entsprechenden ID-Namen\n",
    "    Dict_obs_data[ID] = obs_data\n",
    "\n",
    "    \n",
    "##### Als Beispiel observational data von GRDC von einer bestimmten Station genauer untersuchen\n",
    "#ID_Kleinheubach = 6335240\n",
    "#obs_data_Kleinheubach = Dict_obs_data[ID_Kleinheubach]\n",
    "#print(obs_data_Kleinheubach)\n",
    "# Hiermit bestätigte ich, dass die Ergebnisse von obs_data_Kleinheubach mit den Werten aus der txt.DAtei übereinstimmen\n"
   ]
  },
  {
   "cell_type": "markdown",
   "id": "0652c628-b4e3-4652-a120-51b00e53bdfe",
   "metadata": {},
   "source": [
    "## Simulation nc-Datensätze"
   ]
  },
  {
   "cell_type": "markdown",
   "id": "78583c26-4a9d-4274-9589-eee720ca3058",
   "metadata": {},
   "source": [
    "### Simulation nc-Datensätze von CWatM einlesen Teil 1/2"
   ]
  },
  {
   "cell_type": "code",
   "execution_count": 6,
   "id": "fbba5077-28b8-4e5e-aac2-f4d93bd91961",
   "metadata": {},
   "outputs": [],
   "source": [
    "# nc-file in xarray einlesen\n",
    "simulation_file = filepath_simulation_results  + '/' + selected_simulation  + '/' + 'discharge_daily.nc'\n",
    "xr_sim = xr.open_dataset(simulation_file)\n",
    "xr_sim \n",
    "\n",
    "# Liste aller einzigartigen IDs\n",
    "list_of_station_IDs = xr_obs['id'].values\n"
   ]
  },
  {
   "cell_type": "markdown",
   "id": "65454ab4-fe71-4594-9fe7-31664e11c1af",
   "metadata": {},
   "source": [
    "### lat_station_index und lon_station_index automatisch herausfinden "
   ]
  },
  {
   "cell_type": "code",
   "execution_count": 7,
   "id": "f15174f5-1707-45ca-9cc2-49f7433579a2",
   "metadata": {},
   "outputs": [],
   "source": [
    "# Geographische Koordinaten automatisch auslesen \n",
    "lon_station = {}\n",
    "lat_station = {}\n",
    "height_station = {}\n",
    "\n",
    "for ID in list_of_station_IDs: \n",
    "    lon_station [ID] = xr_obs['geo_x'].sel(id = ID).values\n",
    "    lat_station[ID] = xr_obs['geo_y'].sel(id = ID).values\n",
    "    height_station [ID] =  xr_obs['geo_z'].sel(id = ID).values\n",
    "    \n",
    "# Alle Werte der latitudes und longitudes auslesen \n",
    "latitudes = xr_sim['lat'].values\n",
    "longitudes = xr_sim['lon'].values\n",
    "\n",
    "# Nächstgelegende Lat und lon index automatisch auslesen\n",
    "lat_station_index = {}\n",
    "lon_station_index = {}\n",
    "\n",
    "for ID in list_of_station_IDs: \n",
    "    lat_station_index [ID] = np.abs(latitudes - lat_station[ID]).argmin()\n",
    "    lon_station_index [ID] = np.abs(longitudes - lon_station[ID]).argmin()\n"
   ]
  },
  {
   "cell_type": "markdown",
   "id": "7587e4fc-3f9c-4f14-af30-f950bf326e12",
   "metadata": {},
   "source": [
    "### Dictionary für lat_station_index_fit und lon_station_index_fit erstellen"
   ]
  },
  {
   "cell_type": "code",
   "execution_count": 8,
   "id": "4f7423e8-36df-4da3-87c2-a1723cdbea75",
   "metadata": {},
   "outputs": [],
   "source": [
    "# Jetzt Dictionarys für lat_index_fit und lon_index_fit damit erstellen \n",
    "lat_station_index_fit = {}\n",
    "lon_station_index_fit = {}\n",
    "\n",
    "for ID in list_of_station_IDs:\n",
    "    lat_station_index_fit[ID] = lat_station_index[ID]\n",
    "    lon_station_index_fit[ID] = lon_station_index[ID]\n",
    "    \n",
    "for ID in list_of_station_IDs_lat_minus1:\n",
    "    if ID in list_of_station_IDs:\n",
    "        lat_station_index_fit[ID] = lat_station_index[ID] - 1 \n",
    "for ID in list_of_station_IDs_lon_minus1:\n",
    "    if ID in list_of_station_IDs:\n",
    "        lon_station_index_fit[ID] = lon_station_index[ID] - 1\n",
    "for ID in list_of_station_IDs_lat_plus1:\n",
    "    if ID in list_of_station_IDs:\n",
    "        lat_station_index_fit[ID] = lat_station_index[ID] + 1 \n",
    "for ID in list_of_station_IDs_lon_plus1:\n",
    "    if ID in list_of_station_IDs:\n",
    "        lon_station_index_fit[ID] = lon_station_index[ID] + 1\n",
    "\n",
    "# Finale Werte für lat_station_index_fit und lon_station_index_fit ausgeben\n",
    "# print(lat_station_index_fit)\n",
    "# print(lon_station_index_fit)\n"
   ]
  },
  {
   "cell_type": "markdown",
   "id": "5d820064-0bc7-48be-a3b5-48d21fc53933",
   "metadata": {},
   "source": [
    "### Simulation nc-Datensätze von CWatM einlesen Teil 2/2"
   ]
  },
  {
   "cell_type": "code",
   "execution_count": 9,
   "id": "04586cc2-b8a8-44fb-80e8-aa0b87208038",
   "metadata": {
    "tags": []
   },
   "outputs": [],
   "source": [
    "# Leeres Dictionary erstellen \n",
    "Dict_sim_data = {}\n",
    "\n",
    "# Schleife über jede einzigartige ID, um die Daten für \"discharge\" zu isolieren\n",
    "for ID in list_of_station_IDs:\n",
    "    sim_data_everywhere = xr_sim['discharge'].sel(time = slice (start_date, end_date))\n",
    "    sim_data = sim_data_everywhere[:, lat_station_index_fit[ID], lon_station_index_fit[ID]].values\n",
    "    # Speichere die Daten im Dictionary unter dem entsprechenden ID-Namen\n",
    "    Dict_sim_data[ID] = sim_data\n",
    "\n",
    "\n",
    "##### Als Beispiel simulierte Daten von CWatM von einer bestimmten Station genauer untersuchen\n",
    "#lat_station_index_fit_Kleinheubach = 257 \n",
    "#lon_station_index_fit_Kleinheubach  = 238\n",
    "#sim_data_Kleinheubach = sim_data_everywhere[:, lat_station_index_fit_Kleinheubach , lon_station_index_fit_Kleinheubach ].values\n",
    "#print(sim_data_Kleinheubach)\n",
    "#ID_Kleinheubach = 6335240\n",
    "#sim_data_Kleinheubach = Dict_sim_data[ID_Kleinheubach] \n",
    "#print(sim_data_Kleinheubach)\n",
    "# Hiermit bestätigte ich, dass die Ergebnisse von sim_data_Kleinheubach mit den Werten aus der xlsx.Datei übereinstimmen\n",
    "\n"
   ]
  },
  {
   "cell_type": "markdown",
   "id": "9ca22e3a-150a-4321-a67b-995a4d80d397",
   "metadata": {},
   "source": [
    "## Definition um KGE zu berechnen "
   ]
  },
  {
   "cell_type": "code",
   "execution_count": 10,
   "id": "9d3e3270-f6ff-4534-8c4d-33fce43fc2bc",
   "metadata": {
    "tags": []
   },
   "outputs": [],
   "source": [
    "def calculate_KGE(stationID):\n",
    "    ## netcdf-Files von GRDC einlesen\n",
    "    obs_data = Dict_obs_data[stationID]\n",
    "    ## netcdf-files von eigener CWatM-Simulation einlesen   \n",
    "    sim_data = Dict_sim_data[stationID]\n",
    "    # Maskierung für NaN-Werte in obs_data erstellen\n",
    "    obs_mask = ~np.isnan(obs_data)\n",
    "    # Nur gültige Datenpunkte berücksichtigen\n",
    "    obs_data_valid = obs_data[obs_mask]\n",
    "    sim_data_valid = sim_data[obs_mask]\n",
    "    # Berechnung der einzelnen Komponenten der KGE\n",
    "    obs_mean = np.mean(obs_data_valid)\n",
    "    sim_mean = np.mean(sim_data_valid)\n",
    "    obs_std = np.std(obs_data_valid)\n",
    "    sim_std = np.std(sim_data_valid)\n",
    "    corr = np.corrcoef(obs_data_valid.flatten(), sim_data_valid.flatten())[0, 1]\n",
    "    # Berechnung der Kling-Gupta-Effizienz\n",
    "    KGE = 1 - np.sqrt((corr - 1)**2 + (sim_mean / obs_mean - 1)**2 + (sim_std  / obs_std - 1)**2)\n",
    "    # Angeben wie viele NaN-Werte für die verschiedenen Sationen enthalten sind\n",
    "    NrOfNan = np.sum(np.isnan(obs_data))\n",
    "    return stationID, KGE, NrOfNan\n",
    "\n",
    "\n"
   ]
  },
  {
   "cell_type": "markdown",
   "id": "6ef59b7a-4f6a-4391-9ce1-3930f55bbd5e",
   "metadata": {},
   "source": [
    "#### Dictionary for stations"
   ]
  },
  {
   "cell_type": "code",
   "execution_count": 11,
   "id": "fdc43dec-8b74-442e-8cc3-47dbbcbdf028",
   "metadata": {
    "tags": []
   },
   "outputs": [],
   "source": [
    "Dict_stationname = {}\n",
    "for ID in list_of_station_IDs:\n",
    "    stationname = xr_obs['station_name'].sel(id = ID).values\n",
    "    country = xr_obs['country'].sel(id = ID).values\n",
    "    Dict_stationname[ID] = f\"{stationname} ({country})\"\n",
    "\n",
    "\n"
   ]
  },
  {
   "cell_type": "markdown",
   "id": "99e634c1-8688-4caf-84c9-6cbdfc55c8c4",
   "metadata": {},
   "source": [
    "### KGE für die verschiedenen Standorte berechnen "
   ]
  },
  {
   "cell_type": "code",
   "execution_count": 12,
   "id": "dca66b9d-4745-4e67-bf85-3dd15febae2b",
   "metadata": {
    "tags": []
   },
   "outputs": [
    {
     "name": "stdout",
     "output_type": "stream",
     "text": [
      "Station:  6123400  /  NOUATRE (FR)  ,  KGE: 0.2 NR of NaN: 0\n",
      "Station:  6139770  /  NEUBLANS-ABERGEMENT (FR)  ,  KGE: 0.21 NR of NaN: 0\n",
      "Station:  6142110  /  LADNA (CZ)  ,  KGE: 0.02 NR of NaN: 0\n",
      "Station:  6172351  /  VASKNARVA (EE)  ,  KGE: 0.27 NR of NaN: 0\n",
      "Station:  6212410  /  TORO (ES)  ,  KGE: 0.59 NR of NaN: 0\n",
      "Station:  6216510  /  AZUD DE BADAJOZ (ES)  ,  KGE: 0.08 NR of NaN: 0\n",
      "Station:  6217140  /  MENGIBAR (ES)  ,  KGE: 0.12 NR of NaN: 3\n",
      "Station:  6221102  /  CHOOZ (BE)  ,  KGE: 0.18 NR of NaN: 0\n",
      "Station:  6226300  /  CASTEJON (ES)  ,  KGE: 0.58 NR of NaN: 0\n",
      "Station:  6233320  /  VAENERN (SE)  ,  KGE: -0.07 NR of NaN: 1\n",
      "Station:  6233650  /  SOLLEFTEA KRV (SE)  ,  KGE: -0.06 NR of NaN: 0\n",
      "Station:  6233750  /  BODENS KRV (+ VATTENVERK, TRANGFORS) (SE)  ,  KGE: 0.01 NR of NaN: 0\n",
      "Station:  6243050  /  KIRCHBICHL - BICHLWANG (AT)  ,  KGE: 0.63 NR of NaN: 0\n",
      "Station:  6335240  /  KLEINHEUBACH (DE)  ,  KGE: 0.64 NR of NaN: 0\n",
      "Station:  6337200  /  INTSCHEDE (DE)  ,  KGE: 0.33 NR of NaN: 0\n",
      "Station:  6348200  /  MONTECASTELLO (IT)  ,  KGE: 0.13 NR of NaN: 112\n",
      "Station:  6357500  /  EISENHUETTENSTADT (DE)  ,  KGE: 0.58 NR of NaN: 0\n",
      "Station:  6458450  /  SZCZUCIN (PL)  ,  KGE: 0.42 NR of NaN: 0\n",
      "Station:  6574154  /  NEMAJUNAI (LT)  ,  KGE: -0.77 NR of NaN: 0\n",
      "Station:  6606650  /  KINGSTON (GB)  ,  KGE: 0.47 NR of NaN: 0\n",
      "Station:  6646800  /  DONJI MIHOLJAC C.S. (HR)  ,  KGE: 0.65 NR of NaN: 0\n",
      "Station:  6730501  /  POLMAK NYE (NO)  ,  KGE: 0.33 NR of NaN: 0\n",
      "Station:  6731555  /  BERTNEM (NO)  ,  KGE: 0.23 NR of NaN: 0\n",
      "Station:  6742700  /  LUNGOCI (RO)  ,  KGE: 0.08 NR of NaN: 0\n",
      "Station:  6744201  /  ALBA IULIA (RO)  ,  KGE: 0.52 NR of NaN: 0\n",
      "Station:  6781800  /  TIGHINA (BENDERY) (MD)  ,  KGE: 0.26 NR of NaN: 0\n",
      "Station:  6854203  /  ANJALA (FI)  ,  KGE: -0.25 NR of NaN: 0\n",
      "Station:  6854700  /  ISOHAARA (FI)  ,  KGE: 0.24 NR of NaN: 0\n"
     ]
    }
   ],
   "source": [
    "KGE = {}\n",
    "for ID in list_of_station_IDs:\n",
    "    stationID,  stationKGE, NrOfNan = calculate_KGE(ID) \n",
    "    KGE [ID] = np.round(stationKGE, 4)\n",
    "    print('Station: ' ,  ID  , ' / ' ,  Dict_stationname[ID]  , ' , ' ,  'KGE:' , np.round(KGE[ID],2), 'NR of NaN:', NrOfNan )\n"
   ]
  },
  {
   "cell_type": "markdown",
   "id": "d6368f04-b852-4058-a4b3-1863971a6f63",
   "metadata": {},
   "source": [
    "## Erstellen der Karten "
   ]
  },
  {
   "cell_type": "markdown",
   "id": "54695bcb-4862-4df6-8970-eb51153956e4",
   "metadata": {},
   "source": [
    "#### Basisinformationen"
   ]
  },
  {
   "cell_type": "code",
   "execution_count": 13,
   "id": "099f2b2f-022d-45eb-8bf2-9c2fca6feb0e",
   "metadata": {
    "tags": []
   },
   "outputs": [],
   "source": [
    "# Basis informationen die für alle Karten gelten\n",
    "\n",
    "# Daten für Mitteleuropa\n",
    "#lon_min = -10.4 Irland, #lat_min = 36.0   Gibralta, #lon_max = 48.9 Ukraine, #lat_max = 71.1  Norwegen\n",
    "A_lon, A_lat, B_lon, B_lat = -12 , 34 , 41 , 72\n",
    "\n",
    "# Spanien\n",
    "# , A_lat, B_lon, B_lat = -8 , 37 , 2 , 43.5\n",
    "\n",
    "\n"
   ]
  },
  {
   "cell_type": "markdown",
   "id": "bb4e4e0e-0778-44f0-be12-f6ba1e7600cc",
   "metadata": {},
   "source": [
    "#### Karte mit Cartopy erstellen"
   ]
  },
  {
   "cell_type": "code",
   "execution_count": 18,
   "id": "4eaf345c-74f2-4fcf-a4c8-fa4275df38f0",
   "metadata": {
    "tags": []
   },
   "outputs": [
    {
     "data": {
      "image/png": "[encoded data removed]",
      "text/plain": [
       "<Figure size 640x480 with 1 Axes>"
      ]
     },
     "metadata": {},
     "output_type": "display_data"
    }
   ],
   "source": [
    "# Discharge maps in Cartopy\n",
    "choosen_projection = ccrs.PlateCarree()   \n",
    "ax = plt.axes(projection = choosen_projection) \n",
    "ax.set_extent([A_lon, B_lon, A_lat, B_lat], crs = choosen_projection)\n",
    "ax.coastlines(linewidth=0.1, linestyle='-')\n",
    "# Punkt für Station hinzufügen\n",
    "for ID in list_of_station_IDs:\n",
    "    if KGE[ID] >= 0.3 :\n",
    "        color_KGE = 'g'\n",
    "    if KGE[ID] >= 0 and KGE[ID] < 0.3 :\n",
    "        color_KGE = '#FFD700' \n",
    "    if KGE[ID] < 0 :\n",
    "        color_KGE = 'r'\n",
    "    if np.isnan(KGE[ID]):\n",
    "        color_KGE = (0.8, 0.8, 0.8)\n",
    "    ax.plot(lon_station[ID], lat_station[ID], 'o', color = color_KGE , markersize=10, transform=ccrs.PlateCarree())\n",
    "    \n",
    "# Textbeschriftung hinzufügen\n",
    "for ID in list_of_station_IDs:\n",
    "    ax.text(lon_station[ID] + 0.7,  lat_station[ID], np.round(KGE[ID],2), horizontalalignment='left', transform=ccrs.PlateCarree(), fontsize=8)\n",
    "\n",
    "plt.title('Potential Stations for calibration') \n",
    "plt.tight_layout()\n",
    "plt.savefig(file_save_graph + '/' + 'map_of_stations_automatically' + '_' + area + '_' + yearsname + '.jpg')\n",
    "plt.show()\n",
    "plt.close()\n"
   ]
  }
 ],
 "metadata": {
  "kernelspec": {
   "display_name": "newkernel_for_CWatM",
   "language": "python",
   "name": "virtenv_cwatm"
  },
  "language_info": {
   "codemirror_mode": {
    "name": "ipython",
    "version": 3
   },
   "file_extension": ".py",
   "mimetype": "text/x-python",
   "name": "python",
   "nbconvert_exporter": "python",
   "pygments_lexer": "ipython3",
   "version": "3.10.10"
  }
 },
 "nbformat": 4,
 "nbformat_minor": 5
}
